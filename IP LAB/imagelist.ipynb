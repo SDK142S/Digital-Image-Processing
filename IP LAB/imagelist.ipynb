{
 "cells": [
  {
   "cell_type": "code",
   "execution_count": 20,
   "id": "39d181be",
   "metadata": {},
   "outputs": [
    {
     "name": "stdout",
     "output_type": "stream",
     "text": [
      "image size= (275, 183)\n",
      "image format= JPEG\n",
      "image mode= RGB\n",
      "image size= (275, 183)\n",
      "image format= JPEG\n",
      "image mode= RGB\n",
      "image size= (239, 211)\n",
      "image format= JPEG\n",
      "image mode= RGB\n",
      "image size= (276, 183)\n",
      "image format= JPEG\n",
      "image mode= RGB\n"
     ]
    },
    {
     "name": "stderr",
     "output_type": "stream",
     "text": [
      "\n",
      "** (xviewer:2661): CRITICAL **: 14:12:25.826: xviewer_image_get_file: assertion 'XVIEWER_IS_IMAGE (img)' failed\n",
      "\n",
      "(xviewer:2661): GLib-GIO-CRITICAL **: 14:12:25.826: g_file_equal: assertion 'G_IS_FILE (file1)' failed\n",
      "\n",
      "** (xviewer:2661): CRITICAL **: 14:12:25.966: xviewer_image_get_file: assertion 'XVIEWER_IS_IMAGE (img)' failed\n",
      "\n",
      "(xviewer:2661): GLib-GIO-CRITICAL **: 14:12:25.966: g_file_equal: assertion 'G_IS_FILE (file1)' failed\n",
      "\n",
      "** (xviewer:2661): CRITICAL **: 14:12:26.019: xviewer_image_get_file: assertion 'XVIEWER_IS_IMAGE (img)' failed\n",
      "\n",
      "(xviewer:2661): GLib-GIO-CRITICAL **: 14:12:26.019: g_file_equal: assertion 'G_IS_FILE (file1)' failed\n"
     ]
    }
   ],
   "source": [
    "from PIL import Image\n",
    "def print_image(image_path):\n",
    "    img=Image.open(image_path)\n",
    "    img.show()\n",
    "    print(\"image size=\",img.size)\n",
    "    print(\"image format=\",img.format)\n",
    "    print(\"image mode=\",img.mode)\n",
    "image_path=[\"img1.jpeg\",\"img2.jpeg\",\"img3.jpeg\",\"img4.jpeg\",\"img5.jpeg\"]\n",
    "for i in image_path:\n",
    "    print_image(i)"
   ]
  },
  {
   "cell_type": "code",
   "execution_count": null,
   "id": "85066cf5",
   "metadata": {},
   "outputs": [],
   "source": []
  }
 ],
 "metadata": {
  "kernelspec": {
   "display_name": "Python 3 (ipykernel)",
   "language": "python",
   "name": "python3"
  },
  "language_info": {
   "codemirror_mode": {
    "name": "ipython",
    "version": 3
   },
   "file_extension": ".py",
   "mimetype": "text/x-python",
   "name": "python",
   "nbconvert_exporter": "python",
   "pygments_lexer": "ipython3",
   "version": "3.10.12"
  }
 },
 "nbformat": 4,
 "nbformat_minor": 5
}
